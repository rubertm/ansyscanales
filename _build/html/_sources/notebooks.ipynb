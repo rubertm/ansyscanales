{
 "cells": [
  {
   "cell_type": "markdown",
   "metadata": {},
   "source": [
    "# Calculos y Resultados\n",
    "\n",
    "## Validación de modelos en *ANSYS*\n",
    "\n",
    "### *Caída hidráulica*\n",
    "\n",
    "Para este caso los resultados de la modelación en **ANSYS** son consistente con los de las ecuaciones teóricas, en los dos casos se presentan bajas velocidades en la parte aguas arriba de la caída, con *números de Froude* menores a 1, y altas velocidades en la parte aguas abajo de la caída, con *números de Froude* superiores a 1. La siguiente figura ilustra la solución en **ANSYS**, muestra la caída hidráulica y los vectores de velocidad en la fase agua, también una escala de colores para la magnitud de velocidad.\n",
    "\n",
    "<img src=\"figura6.jpg\" width=\"600\">\n",
    "\n",
    "\n",
    "****Fig 6. Esquema de caída hidráulica modelado en *ANSYS*.****\n",
    "\n",
    "\n",
    "Se comparó los resultados de velocidad en la caída hidráulica, la calculada con las ecuaciones teóricas y la arrojada por el modelo aproximadamente en el punto de inflexión en la curva inversa, también se comparó la profundidad de flujo.\n",
    "\n",
    "La velocidad calculada por las ecuaciones teóricas es de 3.18 m/s, y la modelada en **ANSYS** es aproximadamente 3.10  m/s, corresponde a la velocidad crítica en el punto de inflexión de la curva inversa.\n",
    "\n",
    "A continuación, los calculos de la profundidad de flujo con las ecuaciones teóricas y la modelada en **ANSYS**. Se presentan errores que oscilan entre el 6% y el 12%, tomando como real la profundidad calculada con las ecuaciones teóricas.\n"
   ]
  },
  {
   "cell_type": "code",
   "execution_count": 1,
   "metadata": {},
   "outputs": [
    {
     "name": "stdout",
     "output_type": "stream",
     "text": [
      "Energía(m): 1.54  yc(m): 1.03  Vc(m/s): 3.17  ancho de la sección critica(m): 0.87\n"
     ]
    },
    {
     "data": {
      "application/vnd.plotly.v1+json": {
       "config": {
        "plotlyServerURL": "https://plot.ly"
       },
       "data": [
        {
         "line": {
          "color": "royalblue",
          "dash": "dot",
          "width": 4
         },
         "mode": "lines",
         "name": "Teórica",
         "type": "scatter",
         "x": [
          1.524,
          2.286,
          3.048,
          3.81,
          4.572,
          5.334,
          6.096,
          6.8580000000000005,
          7.62,
          8.382,
          9.144,
          9.906,
          10.668,
          11.43,
          12.192,
          12.954,
          13.716000000000001,
          14.478,
          15.24,
          16.002,
          16.764
         ],
         "y": [
          1.514007568359375,
          1.5110015869140625,
          1.5059967041015625,
          1.498992919921875,
          1.490997314453125,
          1.4799957275390625,
          1.4640045166015625,
          1.4409942626953125,
          1.4029998779296875,
          1.33099365234375,
          1.048004150390625,
          0.6949462890625,
          0.574951171875,
          0.4949951171875,
          0.43701171875,
          0.3909912109375,
          0.35498046875,
          0.32501220703125,
          0.29901123046875,
          0.27801513671875,
          0.25897216796875
         ]
        },
        {
         "line": {
          "color": "firebrick",
          "dash": "dot",
          "width": 4
         },
         "mode": "lines+markers",
         "name": "ANSYS",
         "type": "scatter",
         "x": [
          1.524,
          2.286,
          3.048,
          3.81,
          4.572,
          5.334,
          6.096,
          6.8580000000000005,
          7.62,
          8.382,
          9.144,
          9.906,
          10.668,
          11.43,
          12.192,
          12.954,
          13.716000000000001,
          14.478,
          15.24,
          16.002,
          16.764
         ],
         "y": [
          1.5792,
          1.56,
          1.5826,
          1.5819,
          1.5723,
          1.5674,
          1.5392,
          1.4824,
          1.4506,
          1.4397,
          1.031,
          0.674,
          0.5554,
          0.4676,
          0.399,
          0.3398,
          0.3058,
          0.1984,
          0.2356,
          0.1301,
          0.2079
         ]
        }
       ],
       "layout": {
        "template": {
         "data": {
          "bar": [
           {
            "error_x": {
             "color": "#2a3f5f"
            },
            "error_y": {
             "color": "#2a3f5f"
            },
            "marker": {
             "line": {
              "color": "#E5ECF6",
              "width": 0.5
             },
             "pattern": {
              "fillmode": "overlay",
              "size": 10,
              "solidity": 0.2
             }
            },
            "type": "bar"
           }
          ],
          "barpolar": [
           {
            "marker": {
             "line": {
              "color": "#E5ECF6",
              "width": 0.5
             },
             "pattern": {
              "fillmode": "overlay",
              "size": 10,
              "solidity": 0.2
             }
            },
            "type": "barpolar"
           }
          ],
          "carpet": [
           {
            "aaxis": {
             "endlinecolor": "#2a3f5f",
             "gridcolor": "white",
             "linecolor": "white",
             "minorgridcolor": "white",
             "startlinecolor": "#2a3f5f"
            },
            "baxis": {
             "endlinecolor": "#2a3f5f",
             "gridcolor": "white",
             "linecolor": "white",
             "minorgridcolor": "white",
             "startlinecolor": "#2a3f5f"
            },
            "type": "carpet"
           }
          ],
          "choropleth": [
           {
            "colorbar": {
             "outlinewidth": 0,
             "ticks": ""
            },
            "type": "choropleth"
           }
          ],
          "contour": [
           {
            "colorbar": {
             "outlinewidth": 0,
             "ticks": ""
            },
            "colorscale": [
             [
              0,
              "#0d0887"
             ],
             [
              0.1111111111111111,
              "#46039f"
             ],
             [
              0.2222222222222222,
              "#7201a8"
             ],
             [
              0.3333333333333333,
              "#9c179e"
             ],
             [
              0.4444444444444444,
              "#bd3786"
             ],
             [
              0.5555555555555556,
              "#d8576b"
             ],
             [
              0.6666666666666666,
              "#ed7953"
             ],
             [
              0.7777777777777778,
              "#fb9f3a"
             ],
             [
              0.8888888888888888,
              "#fdca26"
             ],
             [
              1,
              "#f0f921"
             ]
            ],
            "type": "contour"
           }
          ],
          "contourcarpet": [
           {
            "colorbar": {
             "outlinewidth": 0,
             "ticks": ""
            },
            "type": "contourcarpet"
           }
          ],
          "heatmap": [
           {
            "colorbar": {
             "outlinewidth": 0,
             "ticks": ""
            },
            "colorscale": [
             [
              0,
              "#0d0887"
             ],
             [
              0.1111111111111111,
              "#46039f"
             ],
             [
              0.2222222222222222,
              "#7201a8"
             ],
             [
              0.3333333333333333,
              "#9c179e"
             ],
             [
              0.4444444444444444,
              "#bd3786"
             ],
             [
              0.5555555555555556,
              "#d8576b"
             ],
             [
              0.6666666666666666,
              "#ed7953"
             ],
             [
              0.7777777777777778,
              "#fb9f3a"
             ],
             [
              0.8888888888888888,
              "#fdca26"
             ],
             [
              1,
              "#f0f921"
             ]
            ],
            "type": "heatmap"
           }
          ],
          "heatmapgl": [
           {
            "colorbar": {
             "outlinewidth": 0,
             "ticks": ""
            },
            "colorscale": [
             [
              0,
              "#0d0887"
             ],
             [
              0.1111111111111111,
              "#46039f"
             ],
             [
              0.2222222222222222,
              "#7201a8"
             ],
             [
              0.3333333333333333,
              "#9c179e"
             ],
             [
              0.4444444444444444,
              "#bd3786"
             ],
             [
              0.5555555555555556,
              "#d8576b"
             ],
             [
              0.6666666666666666,
              "#ed7953"
             ],
             [
              0.7777777777777778,
              "#fb9f3a"
             ],
             [
              0.8888888888888888,
              "#fdca26"
             ],
             [
              1,
              "#f0f921"
             ]
            ],
            "type": "heatmapgl"
           }
          ],
          "histogram": [
           {
            "marker": {
             "pattern": {
              "fillmode": "overlay",
              "size": 10,
              "solidity": 0.2
             }
            },
            "type": "histogram"
           }
          ],
          "histogram2d": [
           {
            "colorbar": {
             "outlinewidth": 0,
             "ticks": ""
            },
            "colorscale": [
             [
              0,
              "#0d0887"
             ],
             [
              0.1111111111111111,
              "#46039f"
             ],
             [
              0.2222222222222222,
              "#7201a8"
             ],
             [
              0.3333333333333333,
              "#9c179e"
             ],
             [
              0.4444444444444444,
              "#bd3786"
             ],
             [
              0.5555555555555556,
              "#d8576b"
             ],
             [
              0.6666666666666666,
              "#ed7953"
             ],
             [
              0.7777777777777778,
              "#fb9f3a"
             ],
             [
              0.8888888888888888,
              "#fdca26"
             ],
             [
              1,
              "#f0f921"
             ]
            ],
            "type": "histogram2d"
           }
          ],
          "histogram2dcontour": [
           {
            "colorbar": {
             "outlinewidth": 0,
             "ticks": ""
            },
            "colorscale": [
             [
              0,
              "#0d0887"
             ],
             [
              0.1111111111111111,
              "#46039f"
             ],
             [
              0.2222222222222222,
              "#7201a8"
             ],
             [
              0.3333333333333333,
              "#9c179e"
             ],
             [
              0.4444444444444444,
              "#bd3786"
             ],
             [
              0.5555555555555556,
              "#d8576b"
             ],
             [
              0.6666666666666666,
              "#ed7953"
             ],
             [
              0.7777777777777778,
              "#fb9f3a"
             ],
             [
              0.8888888888888888,
              "#fdca26"
             ],
             [
              1,
              "#f0f921"
             ]
            ],
            "type": "histogram2dcontour"
           }
          ],
          "mesh3d": [
           {
            "colorbar": {
             "outlinewidth": 0,
             "ticks": ""
            },
            "type": "mesh3d"
           }
          ],
          "parcoords": [
           {
            "line": {
             "colorbar": {
              "outlinewidth": 0,
              "ticks": ""
             }
            },
            "type": "parcoords"
           }
          ],
          "pie": [
           {
            "automargin": true,
            "type": "pie"
           }
          ],
          "scatter": [
           {
            "fillpattern": {
             "fillmode": "overlay",
             "size": 10,
             "solidity": 0.2
            },
            "type": "scatter"
           }
          ],
          "scatter3d": [
           {
            "line": {
             "colorbar": {
              "outlinewidth": 0,
              "ticks": ""
             }
            },
            "marker": {
             "colorbar": {
              "outlinewidth": 0,
              "ticks": ""
             }
            },
            "type": "scatter3d"
           }
          ],
          "scattercarpet": [
           {
            "marker": {
             "colorbar": {
              "outlinewidth": 0,
              "ticks": ""
             }
            },
            "type": "scattercarpet"
           }
          ],
          "scattergeo": [
           {
            "marker": {
             "colorbar": {
              "outlinewidth": 0,
              "ticks": ""
             }
            },
            "type": "scattergeo"
           }
          ],
          "scattergl": [
           {
            "marker": {
             "colorbar": {
              "outlinewidth": 0,
              "ticks": ""
             }
            },
            "type": "scattergl"
           }
          ],
          "scattermapbox": [
           {
            "marker": {
             "colorbar": {
              "outlinewidth": 0,
              "ticks": ""
             }
            },
            "type": "scattermapbox"
           }
          ],
          "scatterpolar": [
           {
            "marker": {
             "colorbar": {
              "outlinewidth": 0,
              "ticks": ""
             }
            },
            "type": "scatterpolar"
           }
          ],
          "scatterpolargl": [
           {
            "marker": {
             "colorbar": {
              "outlinewidth": 0,
              "ticks": ""
             }
            },
            "type": "scatterpolargl"
           }
          ],
          "scatterternary": [
           {
            "marker": {
             "colorbar": {
              "outlinewidth": 0,
              "ticks": ""
             }
            },
            "type": "scatterternary"
           }
          ],
          "surface": [
           {
            "colorbar": {
             "outlinewidth": 0,
             "ticks": ""
            },
            "colorscale": [
             [
              0,
              "#0d0887"
             ],
             [
              0.1111111111111111,
              "#46039f"
             ],
             [
              0.2222222222222222,
              "#7201a8"
             ],
             [
              0.3333333333333333,
              "#9c179e"
             ],
             [
              0.4444444444444444,
              "#bd3786"
             ],
             [
              0.5555555555555556,
              "#d8576b"
             ],
             [
              0.6666666666666666,
              "#ed7953"
             ],
             [
              0.7777777777777778,
              "#fb9f3a"
             ],
             [
              0.8888888888888888,
              "#fdca26"
             ],
             [
              1,
              "#f0f921"
             ]
            ],
            "type": "surface"
           }
          ],
          "table": [
           {
            "cells": {
             "fill": {
              "color": "#EBF0F8"
             },
             "line": {
              "color": "white"
             }
            },
            "header": {
             "fill": {
              "color": "#C8D4E3"
             },
             "line": {
              "color": "white"
             }
            },
            "type": "table"
           }
          ]
         },
         "layout": {
          "annotationdefaults": {
           "arrowcolor": "#2a3f5f",
           "arrowhead": 0,
           "arrowwidth": 1
          },
          "autotypenumbers": "strict",
          "coloraxis": {
           "colorbar": {
            "outlinewidth": 0,
            "ticks": ""
           }
          },
          "colorscale": {
           "diverging": [
            [
             0,
             "#8e0152"
            ],
            [
             0.1,
             "#c51b7d"
            ],
            [
             0.2,
             "#de77ae"
            ],
            [
             0.3,
             "#f1b6da"
            ],
            [
             0.4,
             "#fde0ef"
            ],
            [
             0.5,
             "#f7f7f7"
            ],
            [
             0.6,
             "#e6f5d0"
            ],
            [
             0.7,
             "#b8e186"
            ],
            [
             0.8,
             "#7fbc41"
            ],
            [
             0.9,
             "#4d9221"
            ],
            [
             1,
             "#276419"
            ]
           ],
           "sequential": [
            [
             0,
             "#0d0887"
            ],
            [
             0.1111111111111111,
             "#46039f"
            ],
            [
             0.2222222222222222,
             "#7201a8"
            ],
            [
             0.3333333333333333,
             "#9c179e"
            ],
            [
             0.4444444444444444,
             "#bd3786"
            ],
            [
             0.5555555555555556,
             "#d8576b"
            ],
            [
             0.6666666666666666,
             "#ed7953"
            ],
            [
             0.7777777777777778,
             "#fb9f3a"
            ],
            [
             0.8888888888888888,
             "#fdca26"
            ],
            [
             1,
             "#f0f921"
            ]
           ],
           "sequentialminus": [
            [
             0,
             "#0d0887"
            ],
            [
             0.1111111111111111,
             "#46039f"
            ],
            [
             0.2222222222222222,
             "#7201a8"
            ],
            [
             0.3333333333333333,
             "#9c179e"
            ],
            [
             0.4444444444444444,
             "#bd3786"
            ],
            [
             0.5555555555555556,
             "#d8576b"
            ],
            [
             0.6666666666666666,
             "#ed7953"
            ],
            [
             0.7777777777777778,
             "#fb9f3a"
            ],
            [
             0.8888888888888888,
             "#fdca26"
            ],
            [
             1,
             "#f0f921"
            ]
           ]
          },
          "colorway": [
           "#636efa",
           "#EF553B",
           "#00cc96",
           "#ab63fa",
           "#FFA15A",
           "#19d3f3",
           "#FF6692",
           "#B6E880",
           "#FF97FF",
           "#FECB52"
          ],
          "font": {
           "color": "#2a3f5f"
          },
          "geo": {
           "bgcolor": "white",
           "lakecolor": "white",
           "landcolor": "#E5ECF6",
           "showlakes": true,
           "showland": true,
           "subunitcolor": "white"
          },
          "hoverlabel": {
           "align": "left"
          },
          "hovermode": "closest",
          "mapbox": {
           "style": "light"
          },
          "paper_bgcolor": "white",
          "plot_bgcolor": "#E5ECF6",
          "polar": {
           "angularaxis": {
            "gridcolor": "white",
            "linecolor": "white",
            "ticks": ""
           },
           "bgcolor": "#E5ECF6",
           "radialaxis": {
            "gridcolor": "white",
            "linecolor": "white",
            "ticks": ""
           }
          },
          "scene": {
           "xaxis": {
            "backgroundcolor": "#E5ECF6",
            "gridcolor": "white",
            "gridwidth": 2,
            "linecolor": "white",
            "showbackground": true,
            "ticks": "",
            "zerolinecolor": "white"
           },
           "yaxis": {
            "backgroundcolor": "#E5ECF6",
            "gridcolor": "white",
            "gridwidth": 2,
            "linecolor": "white",
            "showbackground": true,
            "ticks": "",
            "zerolinecolor": "white"
           },
           "zaxis": {
            "backgroundcolor": "#E5ECF6",
            "gridcolor": "white",
            "gridwidth": 2,
            "linecolor": "white",
            "showbackground": true,
            "ticks": "",
            "zerolinecolor": "white"
           }
          },
          "shapedefaults": {
           "line": {
            "color": "#2a3f5f"
           }
          },
          "ternary": {
           "aaxis": {
            "gridcolor": "white",
            "linecolor": "white",
            "ticks": ""
           },
           "baxis": {
            "gridcolor": "white",
            "linecolor": "white",
            "ticks": ""
           },
           "bgcolor": "#E5ECF6",
           "caxis": {
            "gridcolor": "white",
            "linecolor": "white",
            "ticks": ""
           }
          },
          "title": {
           "x": 0.05
          },
          "xaxis": {
           "automargin": true,
           "gridcolor": "white",
           "linecolor": "white",
           "ticks": "",
           "title": {
            "standoff": 15
           },
           "zerolinecolor": "white",
           "zerolinewidth": 2
          },
          "yaxis": {
           "automargin": true,
           "gridcolor": "white",
           "linecolor": "white",
           "ticks": "",
           "title": {
            "standoff": 15
           },
           "zerolinecolor": "white",
           "zerolinewidth": 2
          }
         }
        },
        "title": {
         "text": "Comparación profundidad de flujo ANSYS vs Teórico"
        },
        "xaxis": {
         "title": {
          "text": "longitud canal (m)"
         }
        },
        "yaxis": {
         "title": {
          "text": "Profundidad del flujo (m)"
         }
        }
       }
      }
     },
     "metadata": {},
     "output_type": "display_data"
    }
   ],
   "source": [
    "import numpy as np\n",
    "from sympy import *\n",
    "import pandas as pd\n",
    "import plotly.graph_objects as go\n",
    "\n",
    "x = Symbol ('x')\n",
    "y = Symbol ('y')\n",
    "\n",
    "# datos\n",
    "a0 = 0.866 # ancho del canal en la contracción en metros 'sección critica'\n",
    "a1 = 3.048 # ancho del canal aguas arriba en metros\n",
    "a2 = 2.438 # ancho del canal aguas abajo en metros\n",
    "l = 15.22 # longitud del canal en metros\n",
    "y1 = 1.52 # profundidad del flujo aguas arriba en metros\n",
    "q = 2.83 # caudal en m3/s\n",
    "g = 9.81 # gravedad en m2/s\n",
    "\n",
    "# solución\n",
    "E = y1 + q**2/(2*g*(a1*y1)**2) # Energia total, se mantiene constante a lo largo del canal, pérdidas de energía insignificante. \n",
    "yc = E/1.5 # Profundidad crítica\n",
    "vc = (yc*g)**(0.5) # Velocidad crítica\n",
    "ac = q/(vc*yc) # Ancho de la sección crítica\n",
    "\n",
    "print (\"Energía(m):\", round(E, 2) , \" yc(m):\", round(yc, 2), \" Vc(m/s):\", round(vc, 2), \" ancho de la sección critica(m):\", round(ac, 2))\n",
    "\n",
    "# Cálculo del perfil\n",
    "a = []\n",
    "a = np.empty(26, dtype=object)\n",
    "for i in range(0, 13):\n",
    "     a[i] = 3.05 - 2*((i)*0.762*1.09/9.144)\n",
    "     a[i+13] = 0.8699999999999997 + 2*((i+1)*0.762*0.785/9.144)\n",
    "\n",
    "x0 = []\n",
    "x0 = np.empty(25, dtype=object)\n",
    "for i in range(0, 25):\n",
    "     x0[i] = (i)*0.762\n",
    "\n",
    "y2 = []\n",
    "y2 = np.empty(26, dtype=object)\n",
    "\n",
    "for i in range(0, 13):\n",
    "     resultado = solve([y**3-E*y**2+q**2/(2*g*(a[i])**2)], [a[i], y])\n",
    "     y3 = resultado[2]\n",
    "     y2[i] = float(round(y3[1],3))\n",
    "     resultado2 = solve([y**3-E*y**2+q**2/(2*g*(a[i+13])**2)], [a[i+13], y])\n",
    "     y4 = resultado2[1]\n",
    "     y2[i+13] = float(round(y4[1],3))\n",
    "\n",
    "# Resultados ANSYS\n",
    "y5 = [1.5792, 1.56, 1.5826, 1.5819, 1.5723, 1.5674, 1.5392, 1.4824, 1.4506, 1.4397, 1.0310, 0.6740, 0.5554, 0.4676, 0.399, 0.3398, 0.3058, 0.1984, 0.2356, 0.1301, 0.2079]\n",
    "\n",
    "caida_hid = {'ancho_canal': a[2:23], 'longitud': x0[2:23], 'yteorica': y2[2:23], 'yansys': y5}\n",
    "caida_hid = pd.DataFrame(data=caida_hid)\n",
    "\n",
    "import plotly.graph_objects as go\n",
    "fig = go.Figure()\n",
    "fig.add_trace(go.Scatter(x=caida_hid['longitud'], y=caida_hid['yteorica'],\n",
    "                    mode='lines',\n",
    "                    name='Teórica',\n",
    "                    line=dict(color='royalblue', width=4, dash='dot')\n",
    "                    ))\n",
    "fig.add_trace(go.Scatter(x=caida_hid['longitud'], y=caida_hid['yansys'],\n",
    "                    mode='lines+markers',\n",
    "                    name='ANSYS',\n",
    "                    line=dict(color='firebrick', width=4, dash='dot')\n",
    "                    ))\n",
    "# Edit the layout\n",
    "fig.update_layout(title='Comparación profundidad de flujo ANSYS vs Teórico',\n",
    "                   xaxis_title='longitud canal (m)',\n",
    "                   yaxis_title='Profundidad del flujo (m)')\n",
    "\n",
    "fig.show()\n"
   ]
  }
 ],
 "metadata": {
  "kernelspec": {
   "display_name": "Python 3",
   "language": "python",
   "name": "python3"
  },
  "language_info": {
   "codemirror_mode": {
    "name": "ipython",
    "version": 3
   },
   "file_extension": ".py",
   "mimetype": "text/x-python",
   "name": "python",
   "nbconvert_exporter": "python",
   "pygments_lexer": "ipython3",
   "version": "3.11.2"
  },
  "widgets": {
   "application/vnd.jupyter.widget-state+json": {
    "state": {},
    "version_major": 2,
    "version_minor": 0
   }
  }
 },
 "nbformat": 4,
 "nbformat_minor": 4
}
