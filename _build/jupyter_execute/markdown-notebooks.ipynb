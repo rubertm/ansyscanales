{
 "cells": [
  {
   "cell_type": "markdown",
   "id": "f5faa4d5",
   "metadata": {},
   "source": [
    "# Conclusiones\n",
    "\n",
    "La principal conclusión de este trabajo fue:\n",
    "\n",
    "```{admonition} sobre la herramienta de modelación\n",
    "Se puede asegurar que la herramienta computacional ***ANSYS*** representa con un error de aproximadamente el `10 %`,  el fenómeno de caída hidráulica, es un fenómeno que se presenta en la hidráulica, con condiciones difíciles de simular. Dado lo anterior, ***ANSYS*** provee una alta confiabilidad para modelar estructuras de este tipo.\n",
    "```\n",
    "\n",
    "```{admonition} sobre la herramienta de modelación\n",
    "En este ejercicio se puede concluir que la herramienta ***ANSYS*** es útil a la hora de evaluar o validar modelos de estructuras hidráulicas tipo canales. \n",
    "```"
   ]
  }
 ],
 "metadata": {
  "jupytext": {
   "formats": "md:myst",
   "text_representation": {
    "extension": ".md",
    "format_name": "myst",
    "format_version": 0.13,
    "jupytext_version": "1.11.5"
   }
  },
  "kernelspec": {
   "display_name": "Python 3",
   "language": "python",
   "name": "python3"
  },
  "language_info": {
   "codemirror_mode": {
    "name": "ipython",
    "version": 3
   },
   "file_extension": ".py",
   "mimetype": "text/x-python",
   "name": "python",
   "nbconvert_exporter": "python",
   "pygments_lexer": "ipython3",
   "version": "3.11.2"
  },
  "source_map": [
   13
  ]
 },
 "nbformat": 4,
 "nbformat_minor": 5
}